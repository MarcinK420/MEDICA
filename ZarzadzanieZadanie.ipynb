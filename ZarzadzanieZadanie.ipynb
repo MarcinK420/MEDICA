{
  "nbformat": 4,
  "nbformat_minor": 0,
  "metadata": {
    "colab": {
      "provenance": [],
      "include_colab_link": true
    },
    "kernelspec": {
      "name": "python3",
      "display_name": "Python 3"
    },
    "language_info": {
      "name": "python"
    }
  },
  "cells": [
    {
      "cell_type": "markdown",
      "metadata": {
        "id": "view-in-github",
        "colab_type": "text"
      },
      "source": [
        "<a href=\"https://colab.research.google.com/github/MarcinK420/MEDICA/blob/main/ZarzadzanieZadanie.ipynb\" target=\"_parent\"><img src=\"https://colab.research.google.com/assets/colab-badge.svg\" alt=\"Open In Colab\"/></a>"
      ]
    },
    {
      "cell_type": "code",
      "execution_count": null,
      "metadata": {
        "colab": {
          "base_uri": "https://localhost:8080/"
        },
        "id": "rotDxcenf4Q-",
        "outputId": "955bcde7-9988-48aa-ac71-46f27f4f871d"
      },
      "outputs": [
        {
          "output_type": "stream",
          "name": "stdout",
          "text": [
            "Requirement already satisfied: Flask in /usr/local/lib/python3.11/dist-packages (3.1.0)\n",
            "Collecting pyngrok\n",
            "  Downloading pyngrok-7.2.4-py3-none-any.whl.metadata (8.7 kB)\n",
            "Collecting Werkzeug==2.3.7\n",
            "  Downloading werkzeug-2.3.7-py3-none-any.whl.metadata (4.1 kB)\n",
            "Requirement already satisfied: MarkupSafe>=2.1.1 in /usr/local/lib/python3.11/dist-packages (from Werkzeug==2.3.7) (3.0.2)\n",
            "INFO: pip is looking at multiple versions of flask to determine which version is compatible with other requirements. This could take a while.\n",
            "Collecting Flask\n",
            "  Downloading flask-3.0.3-py3-none-any.whl.metadata (3.2 kB)\n",
            "  Downloading flask-3.0.2-py3-none-any.whl.metadata (3.6 kB)\n",
            "  Downloading flask-3.0.1-py3-none-any.whl.metadata (3.6 kB)\n",
            "  Downloading flask-3.0.0-py3-none-any.whl.metadata (3.6 kB)\n",
            "  Downloading flask-2.3.3-py3-none-any.whl.metadata (3.6 kB)\n",
            "Requirement already satisfied: Jinja2>=3.1.2 in /usr/local/lib/python3.11/dist-packages (from Flask) (3.1.6)\n",
            "Requirement already satisfied: itsdangerous>=2.1.2 in /usr/local/lib/python3.11/dist-packages (from Flask) (2.2.0)\n",
            "Requirement already satisfied: click>=8.1.3 in /usr/local/lib/python3.11/dist-packages (from Flask) (8.1.8)\n",
            "Requirement already satisfied: blinker>=1.6.2 in /usr/local/lib/python3.11/dist-packages (from Flask) (1.9.0)\n",
            "Requirement already satisfied: PyYAML>=5.1 in /usr/local/lib/python3.11/dist-packages (from pyngrok) (6.0.2)\n",
            "Downloading werkzeug-2.3.7-py3-none-any.whl (242 kB)\n",
            "\u001b[2K   \u001b[90m━━━━━━━━━━━━━━━━━━━━━━━━━━━━━━━━━━━━━━━━\u001b[0m \u001b[32m242.2/242.2 kB\u001b[0m \u001b[31m5.5 MB/s\u001b[0m eta \u001b[36m0:00:00\u001b[0m\n",
            "\u001b[?25hDownloading flask-2.3.3-py3-none-any.whl (96 kB)\n",
            "\u001b[2K   \u001b[90m━━━━━━━━━━━━━━━━━━━━━━━━━━━━━━━━━━━━━━━━\u001b[0m \u001b[32m96.1/96.1 kB\u001b[0m \u001b[31m5.5 MB/s\u001b[0m eta \u001b[36m0:00:00\u001b[0m\n",
            "\u001b[?25hDownloading pyngrok-7.2.4-py3-none-any.whl (23 kB)\n",
            "Installing collected packages: Werkzeug, pyngrok, Flask\n",
            "  Attempting uninstall: Werkzeug\n",
            "    Found existing installation: Werkzeug 3.1.3\n",
            "    Uninstalling Werkzeug-3.1.3:\n",
            "      Successfully uninstalled Werkzeug-3.1.3\n",
            "  Attempting uninstall: Flask\n",
            "    Found existing installation: Flask 3.1.0\n",
            "    Uninstalling Flask-3.1.0:\n",
            "      Successfully uninstalled Flask-3.1.0\n",
            "Successfully installed Flask-2.3.3 Werkzeug-2.3.7 pyngrok-7.2.4\n"
          ]
        }
      ],
      "source": [
        "# W komórce Colab\n",
        "!pip install Flask pyngrok Werkzeug==2.3.7  # Instalujemy Flask i ngrok (do wystawienia aplikacji na zewnątrz) oraz konkretną wersję Werkzeug dla kompatybilności"
      ]
    },
    {
      "cell_type": "code",
      "source": [
        "# W komórce Colab\n",
        "import os\n",
        "\n",
        "# Tworzymy katalog na szablony HTML\n",
        "if not os.path.exists('templates'):\n",
        "    os.makedirs('templates')\n",
        "\n",
        "# Tworzymy plik bazy danych (jeśli nie istnieje)\n",
        "import sqlite3\n",
        "conn = sqlite3.connect('patients.db')\n",
        "conn.close()"
      ],
      "metadata": {
        "id": "22ffyiRQgwHa"
      },
      "execution_count": null,
      "outputs": []
    },
    {
      "cell_type": "code",
      "source": [
        "# W kolejnej komórce Colab - zapiszemy to jako plik app.py\n",
        "%%writefile app.py\n",
        "import os\n",
        "import sqlite3\n",
        "import hashlib # Do hashowania haseł\n",
        "from flask import Flask, render_template, request, redirect, url_for, session, flash\n",
        "\n",
        "app = Flask(__name__)\n",
        "# Klucz sekretny jest potrzebny do obsługi sesji (logowania)\n",
        "app.secret_key = os.urandom(24) # Generuje losowy klucz przy każdym uruchomieniu\n",
        "\n",
        "DATABASE = 'patients.db'\n",
        "\n",
        "# --- Funkcje pomocnicze do bazy danych ---\n",
        "\n",
        "def get_db():\n",
        "    conn = sqlite3.connect(DATABASE)\n",
        "    conn.row_factory = sqlite3.Row # Zwraca wiersze jako obiekty podobne do słowników\n",
        "    return conn\n",
        "\n",
        "def init_db():\n",
        "    \"\"\"Inicjalizuje bazę danych, tworząc tabelę jeśli nie istnieje.\"\"\"\n",
        "    db = get_db()\n",
        "    cursor = db.cursor()\n",
        "    cursor.execute('''\n",
        "        CREATE TABLE IF NOT EXISTS patients (\n",
        "            id INTEGER PRIMARY KEY AUTOINCREMENT,\n",
        "            first_name TEXT NOT NULL,\n",
        "            last_name TEXT NOT NULL,\n",
        "            email TEXT UNIQUE NOT NULL,\n",
        "            password_hash TEXT NOT NULL,\n",
        "            pesel TEXT UNIQUE,  -- Dodajmy PESEL jako przykład\n",
        "            date_of_birth TEXT\n",
        "        )\n",
        "    ''')\n",
        "    db.commit()\n",
        "    cursor.close()\n",
        "    db.close()\n",
        "    print(\"Database initialized.\")\n",
        "\n",
        "def hash_password(password):\n",
        "    \"\"\"Haszuje hasło za pomocą SHA256.\"\"\"\n",
        "    return hashlib.sha256(password.encode('utf-8')).hexdigest()\n",
        "\n",
        "def verify_password(stored_password_hash, provided_password):\n",
        "    \"\"\"Weryfikuje podane hasło z hashem zapisanym w bazie.\"\"\"\n",
        "    return stored_password_hash == hashlib.sha256(provided_password.encode('utf-8')).hexdigest()\n",
        "\n",
        "# --- Trasy (Routes) aplikacji ---\n",
        "\n",
        "@app.route('/')\n",
        "def index():\n",
        "    \"\"\"Strona główna - przekierowuje do logowania lub karty pacjenta.\"\"\"\n",
        "    if 'patient_id' in session:\n",
        "        return redirect(url_for('patient_card'))\n",
        "    return redirect(url_for('login'))\n",
        "\n",
        "@app.route('/register', methods=['GET', 'POST'])\n",
        "def register():\n",
        "    \"\"\"Strona rejestracji nowego pacjenta.\"\"\"\n",
        "    if request.method == 'POST':\n",
        "        first_name = request.form['first_name']\n",
        "        last_name = request.form['last_name']\n",
        "        email = request.form['email']\n",
        "        password = request.form['password']\n",
        "        pesel = request.form.get('pesel') # Użyj get dla pól opcjonalnych\n",
        "        date_of_birth = request.form.get('date_of_birth')\n",
        "\n",
        "        if not all([first_name, last_name, email, password]):\n",
        "             flash('Wszystkie pola (oprócz PESEL i daty urodzenia) są wymagane!', 'error')\n",
        "             return redirect(url_for('register'))\n",
        "\n",
        "        password_hash = hash_password(password)\n",
        "\n",
        "        conn = get_db()\n",
        "        cursor = conn.cursor()\n",
        "        try:\n",
        "            cursor.execute('''\n",
        "                INSERT INTO patients (first_name, last_name, email, password_hash, pesel, date_of_birth)\n",
        "                VALUES (?, ?, ?, ?, ?, ?)\n",
        "            ''', (first_name, last_name, email, password_hash, pesel, date_of_birth))\n",
        "            conn.commit()\n",
        "            flash('Rejestracja zakończona sukcesem! Możesz się teraz zalogować.', 'success')\n",
        "            return redirect(url_for('login'))\n",
        "        except sqlite3.IntegrityError:\n",
        "            flash('Użytkownik o podanym adresie e-mail lub PESEL już istnieje.', 'error')\n",
        "            return redirect(url_for('register'))\n",
        "        finally:\n",
        "            cursor.close()\n",
        "            conn.close()\n",
        "\n",
        "    # Jeśli metoda GET, po prostu wyświetl formularz\n",
        "    return render_template('register.html')\n",
        "\n",
        "@app.route('/login', methods=['GET', 'POST'])\n",
        "def login():\n",
        "    \"\"\"Strona logowania pacjenta.\"\"\"\n",
        "    if request.method == 'POST':\n",
        "        email = request.form['email']\n",
        "        password = request.form['password']\n",
        "\n",
        "        conn = get_db()\n",
        "        cursor = conn.cursor()\n",
        "        cursor.execute('SELECT * FROM patients WHERE email = ?', (email,))\n",
        "        patient = cursor.fetchone()\n",
        "        cursor.close()\n",
        "        conn.close()\n",
        "\n",
        "        if patient and verify_password(patient['password_hash'], password):\n",
        "            session['patient_id'] = patient['id']\n",
        "            session['patient_email'] = patient['email']\n",
        "            flash('Zalogowano pomyślnie!', 'success')\n",
        "            return redirect(url_for('patient_card'))\n",
        "        else:\n",
        "            flash('Nieprawidłowy e-mail lub hasło.', 'error')\n",
        "            return redirect(url_for('login'))\n",
        "\n",
        "    # Jeśli metoda GET, wyświetl formularz logowania\n",
        "    return render_template('login.html')\n",
        "\n",
        "@app.route('/patient_card')\n",
        "def patient_card():\n",
        "    \"\"\"Wyświetla kartę pacjenta dla zalogowanego użytkownika.\"\"\"\n",
        "    if 'patient_id' not in session:\n",
        "        flash('Musisz być zalogowany, aby zobaczyć tę stronę.', 'error')\n",
        "        return redirect(url_for('login'))\n",
        "\n",
        "    patient_id = session['patient_id']\n",
        "    conn = get_db()\n",
        "    cursor = conn.cursor()\n",
        "    cursor.execute('SELECT * FROM patients WHERE id = ?', (patient_id,))\n",
        "    patient_data = cursor.fetchone()\n",
        "    cursor.close()\n",
        "    conn.close()\n",
        "\n",
        "    if not patient_data:\n",
        "        # Sytuacja awaryjna, użytkownik w sesji, ale nie ma go w bazie?\n",
        "        session.pop('patient_id', None)\n",
        "        session.pop('patient_email', None)\n",
        "        flash('Nie znaleziono danych pacjenta. Zaloguj się ponownie.', 'error')\n",
        "        return redirect(url_for('login'))\n",
        "\n",
        "    return render_template('patient_card.html', patient=patient_data)\n",
        "\n",
        "@app.route('/logout')\n",
        "def logout():\n",
        "    \"\"\"Wylogowuje użytkownika.\"\"\"\n",
        "    session.pop('patient_id', None)\n",
        "    session.pop('patient_email', None)\n",
        "    flash('Wylogowano pomyślnie.', 'info')\n",
        "    return redirect(url_for('login'))\n",
        "\n",
        "# --- Główna część skryptu ---\n",
        "if __name__ == '__main__':\n",
        "    init_db() # Upewnij się, że tabela istnieje przy starcie\n",
        "\n",
        "    # ---- Dodaj konfigurację ngrok ----\n",
        "    from pyngrok import ngrok, conf\n",
        "\n",
        "    # Opcjonalnie: Ustaw region ngrok bliżej siebie (np. Europa)\n",
        "    # Dostępne regiony: us, eu, ap, au, sa, jp, in\n",
        "    conf.get_default().region = 'eu'\n",
        "\n",
        "    # Ustawienie portu (musi być taki sam jak w app.run i ngrok.connect)\n",
        "    port = 5000\n",
        "\n",
        "    print(\"Starting Flask app with ngrok...\")\n",
        "    # Otwórz tunel ngrok na porcie, na którym będzie działać Flask\n",
        "    public_url = ngrok.connect(port)\n",
        "    print(f\" * ngrok tunnel \\\"{public_url}\\\" -> \\\"http://127.0.0.1:{port}/\\\"\")\n",
        "\n",
        "    # Uruchom aplikację Flask na tym samym porcie\n",
        "    # Użyj host='0.0.0.0', aby była dostępna z zewnątrz (dla ngrok)\n",
        "    app.run(host='0.0.0.0', port=port)\n",
        "    # ------------------------------------"
      ],
      "metadata": {
        "colab": {
          "base_uri": "https://localhost:8080/"
        },
        "id": "r-zbdI_BlS2-",
        "outputId": "3d3c9b96-73dd-471a-e1b4-2d58809d6373"
      },
      "execution_count": null,
      "outputs": [
        {
          "output_type": "stream",
          "name": "stdout",
          "text": [
            "Overwriting app.py\n"
          ]
        }
      ]
    },
    {
      "cell_type": "code",
      "source": [
        "%%writefile templates/register.html\n",
        "<!DOCTYPE html>\n",
        "<html lang=\"pl\">\n",
        "<head>\n",
        "    <meta charset=\"UTF-8\">\n",
        "    <meta name=\"viewport\" content=\"width=device-width, initial-scale=1.0\">\n",
        "    <title>Rejestracja Pacjenta</title>\n",
        "    <style>\n",
        "        body { font-family: sans-serif; margin: 20px; }\n",
        "        .form-group { margin-bottom: 15px; }\n",
        "        label { display: block; margin-bottom: 5px; }\n",
        "        input[type=\"text\"], input[type=\"email\"], input[type=\"password\"], input[type=\"date\"] {\n",
        "            width: 300px; padding: 8px; border: 1px solid #ccc; border-radius: 4px;\n",
        "        }\n",
        "        button { padding: 10px 15px; background-color: #007bff; color: white; border: none; border-radius: 4px; cursor: pointer; }\n",
        "        button:hover { background-color: #0056b3; }\n",
        "        .flash { padding: 10px; margin-bottom: 15px; border-radius: 4px; }\n",
        "        .flash.success { background-color: #d4edda; color: #155724; border: 1px solid #c3e6cb; }\n",
        "        .flash.error { background-color: #f8d7da; color: #721c24; border: 1px solid #f5c6cb; }\n",
        "        .flash.info { background-color: #d1ecf1; color: #0c5460; border: 1px solid #bee5eb; }\n",
        "        a { color: #007bff; text-decoration: none; }\n",
        "        a:hover { text-decoration: underline; }\n",
        "    </style>\n",
        "</head>\n",
        "<body>\n",
        "    <h1>Rejestracja Nowego Pacjenta</h1>\n",
        "\n",
        "    {% with messages = get_flashed_messages(with_categories=true) %}\n",
        "      {% if messages %}\n",
        "        {% for category, message in messages %}\n",
        "          <div class=\"flash {{ category }}\">{{ message }}</div>\n",
        "        {% endfor %}\n",
        "      {% endif %}\n",
        "    {% endwith %}\n",
        "\n",
        "    <form method=\"POST\" action=\"{{ url_for('register') }}\">\n",
        "        <div class=\"form-group\">\n",
        "            <label for=\"first_name\">Imię:</label>\n",
        "            <input type=\"text\" id=\"first_name\" name=\"first_name\" required>\n",
        "        </div>\n",
        "        <div class=\"form-group\">\n",
        "            <label for=\"last_name\">Nazwisko:</label>\n",
        "            <input type=\"text\" id=\"last_name\" name=\"last_name\" required>\n",
        "        </div>\n",
        "        <div class=\"form-group\">\n",
        "            <label for=\"email\">Adres E-mail:</label>\n",
        "            <input type=\"email\" id=\"email\" name=\"email\" required>\n",
        "        </div>\n",
        "         <div class=\"form-group\">\n",
        "            <label for=\"pesel\">PESEL (opcjonalnie):</label>\n",
        "            <input type=\"text\" id=\"pesel\" name=\"pesel\" pattern=\"\\d{11}\" title=\"PESEL musi składać się z 11 cyfr\">\n",
        "        </div>\n",
        "         <div class=\"form-group\">\n",
        "            <label for=\"date_of_birth\">Data urodzenia (opcjonalnie):</label>\n",
        "            <input type=\"date\" id=\"date_of_birth\" name=\"date_of_birth\">\n",
        "        </div>\n",
        "        <div class=\"form-group\">\n",
        "            <label for=\"password\">Hasło:</label>\n",
        "            <input type=\"password\" id=\"password\" name=\"password\" required>\n",
        "        </div>\n",
        "        <button type=\"submit\">Zarejestruj</button>\n",
        "    </form>\n",
        "    <p>Masz już konto? <a href=\"{{ url_for('login') }}\">Zaloguj się tutaj</a>.</p>\n",
        "</body>\n",
        "</html>"
      ],
      "metadata": {
        "colab": {
          "base_uri": "https://localhost:8080/"
        },
        "id": "f9Uc0GUKpru3",
        "outputId": "5500efb5-1e7f-4585-d20f-93d041a8b7bd"
      },
      "execution_count": null,
      "outputs": [
        {
          "output_type": "stream",
          "name": "stdout",
          "text": [
            "Writing templates/register.html\n"
          ]
        }
      ]
    },
    {
      "cell_type": "code",
      "source": [
        "%%writefile templates/login.html\n",
        "<!DOCTYPE html>\n",
        "<html lang=\"pl\">\n",
        "<head>\n",
        "    <meta charset=\"UTF-8\">\n",
        "    <meta name=\"viewport\" content=\"width=device-width, initial-scale=1.0\">\n",
        "    <title>Logowanie Pacjenta</title>\n",
        "    <style>\n",
        "        body { font-family: sans-serif; margin: 20px; }\n",
        "        .form-group { margin-bottom: 15px; }\n",
        "        label { display: block; margin-bottom: 5px; }\n",
        "        input[type=\"email\"], input[type=\"password\"] {\n",
        "            width: 300px; padding: 8px; border: 1px solid #ccc; border-radius: 4px;\n",
        "        }\n",
        "        button { padding: 10px 15px; background-color: #28a745; color: white; border: none; border-radius: 4px; cursor: pointer; }\n",
        "        button:hover { background-color: #218838; }\n",
        "        .flash { padding: 10px; margin-bottom: 15px; border-radius: 4px; }\n",
        "        .flash.success { background-color: #d4edda; color: #155724; border: 1px solid #c3e6cb; }\n",
        "        .flash.error { background-color: #f8d7da; color: #721c24; border: 1px solid #f5c6cb; }\n",
        "        .flash.info { background-color: #d1ecf1; color: #0c5460; border: 1px solid #bee5eb; }\n",
        "        a { color: #007bff; text-decoration: none; }\n",
        "        a:hover { text-decoration: underline; }\n",
        "    </style>\n",
        "</head>\n",
        "<body>\n",
        "    <h1>Logowanie do Systemu</h1>\n",
        "\n",
        "    {% with messages = get_flashed_messages(with_categories=true) %}\n",
        "      {% if messages %}\n",
        "        {% for category, message in messages %}\n",
        "          <div class=\"flash {{ category }}\">{{ message }}</div>\n",
        "        {% endfor %}\n",
        "      {% endif %}\n",
        "    {% endwith %}\n",
        "\n",
        "    <form method=\"POST\" action=\"{{ url_for('login') }}\">\n",
        "        <div class=\"form-group\">\n",
        "            <label for=\"email\">Adres E-mail:</label>\n",
        "            <input type=\"email\" id=\"email\" name=\"email\" required>\n",
        "        </div>\n",
        "        <div class=\"form-group\">\n",
        "            <label for=\"password\">Hasło:</label>\n",
        "            <input type=\"password\" id=\"password\" name=\"password\" required>\n",
        "        </div>\n",
        "        <button type=\"submit\">Zaloguj</button>\n",
        "    </form>\n",
        "     <p>Nie masz konta? <a href=\"{{ url_for('register') }}\">Zarejestruj się tutaj</a>.</p>\n",
        "</body>\n",
        "</html>"
      ],
      "metadata": {
        "colab": {
          "base_uri": "https://localhost:8080/"
        },
        "id": "XVANC9T0p_79",
        "outputId": "35a83679-1300-4fd9-afc2-5d6020aac371"
      },
      "execution_count": null,
      "outputs": [
        {
          "output_type": "stream",
          "name": "stdout",
          "text": [
            "Writing templates/login.html\n"
          ]
        }
      ]
    },
    {
      "cell_type": "code",
      "source": [
        "%%writefile templates/patient_card.html\n",
        "<!DOCTYPE html>\n",
        "<html lang=\"pl\">\n",
        "<head>\n",
        "    <meta charset=\"UTF-8\">\n",
        "    <meta name=\"viewport\" content=\"width=device-width, initial-scale=1.0\">\n",
        "    <title>Karta Pacjenta</title>\n",
        "     <style>\n",
        "        body { font-family: sans-serif; margin: 20px; }\n",
        "        .card { border: 1px solid #ccc; border-radius: 5px; padding: 20px; max-width: 500px; background-color: #f9f9f9; }\n",
        "        h1, h2 { color: #333; }\n",
        "        p { margin-bottom: 10px; }\n",
        "        strong { color: #555; }\n",
        "        a { color: #dc3545; text-decoration: none; display: inline-block; margin-top: 15px; padding: 8px 12px; background-color: #f8d7da; border: 1px solid #f5c6cb; border-radius: 4px;}\n",
        "        a:hover { background-color: #f5c6cb; text-decoration: none;}\n",
        "        .flash { padding: 10px; margin-bottom: 15px; border-radius: 4px; }\n",
        "        .flash.success { background-color: #d4edda; color: #155724; border: 1px solid #c3e6cb; }\n",
        "        .flash.error { background-color: #f8d7da; color: #721c24; border: 1px solid #f5c6cb; }\n",
        "        .flash.info { background-color: #d1ecf1; color: #0c5460; border: 1px solid #bee5eb; }\n",
        "    </style>\n",
        "</head>\n",
        "<body>\n",
        "    <h1>Karta Pacjenta</h1>\n",
        "\n",
        "    {% with messages = get_flashed_messages(with_categories=true) %}\n",
        "      {% if messages %}\n",
        "        {% for category, message in messages %}\n",
        "          <div class=\"flash {{ category }}\">{{ message }}</div>\n",
        "        {% endfor %}\n",
        "      {% endif %}\n",
        "    {% endwith %}\n",
        "\n",
        "    {% if patient %}\n",
        "    <div class=\"card\">\n",
        "        <h2>Dane Pacjenta</h2>\n",
        "        <p><strong>ID:</strong> {{ patient.id }}</p>\n",
        "        <p><strong>Imię:</strong> {{ patient.first_name }}</p>\n",
        "        <p><strong>Nazwisko:</strong> {{ patient.last_name }}</p>\n",
        "        <p><strong>E-mail:</strong> {{ patient.email }}</p>\n",
        "        <p><strong>PESEL:</strong> {{ patient.pesel if patient.pesel else 'Nie podano' }}</p>\n",
        "        <p><strong>Data urodzenia:</strong> {{ patient.date_of_birth if patient.date_of_birth else 'Nie podano' }}</p>\n",
        "        </div>\n",
        "    {% else %}\n",
        "    <p>Brak danych pacjenta do wyświetlenia.</p>\n",
        "    {% endif %}\n",
        "\n",
        "    <a href=\"{{ url_for('logout') }}\">Wyloguj</a>\n",
        "</body>\n",
        "</html>"
      ],
      "metadata": {
        "colab": {
          "base_uri": "https://localhost:8080/"
        },
        "id": "1qxrT9ZIqN0b",
        "outputId": "5ca469f5-c194-4ac1-a713-c1ec564fc199"
      },
      "execution_count": null,
      "outputs": [
        {
          "output_type": "stream",
          "name": "stdout",
          "text": [
            "Writing templates/patient_card.html\n"
          ]
        }
      ]
    },
    {
      "cell_type": "code",
      "source": [
        "!ngrok config add-authtoken 2vl7i7VauDdaXwnGOohqOLyGlFO_6tsdW2gDTaxHvEXFU3dmY"
      ],
      "metadata": {
        "colab": {
          "base_uri": "https://localhost:8080/"
        },
        "id": "A2xjyFoLszD5",
        "outputId": "c82bde36-7a97-4334-9365-ca69fa252128"
      },
      "execution_count": null,
      "outputs": [
        {
          "output_type": "stream",
          "name": "stdout",
          "text": [
            "Authtoken saved to configuration file: /root/.config/ngrok/ngrok.yml\n"
          ]
        }
      ]
    },
    {
      "cell_type": "code",
      "source": [
        "!python app.py\n"
      ],
      "metadata": {
        "colab": {
          "base_uri": "https://localhost:8080/"
        },
        "id": "Qc7O3sr1s5T_",
        "outputId": "a8f87949-9f55-4f42-ab5a-9d539969eef6"
      },
      "execution_count": null,
      "outputs": [
        {
          "output_type": "stream",
          "name": "stdout",
          "text": [
            "Database initialized.\n",
            "Starting Flask app with ngrok...\n",
            " * ngrok tunnel \"NgrokTunnel: \"https://0202-34-83-246-71.ngrok-free.app\" -> \"http://localhost:5000\"\" -> \"http://127.0.0.1:5000/\"\n",
            " * Serving Flask app 'app'\n",
            " * Debug mode: off\n",
            "\u001b[31m\u001b[1mWARNING: This is a development server. Do not use it in a production deployment. Use a production WSGI server instead.\u001b[0m\n",
            " * Running on all addresses (0.0.0.0)\n",
            " * Running on http://127.0.0.1:5000\n",
            " * Running on http://172.28.0.12:5000\n",
            "\u001b[33mPress CTRL+C to quit\u001b[0m\n",
            "t=2025-04-15T09:07:05+0000 lvl=warn msg=\"failed to check for update\" obj=updater err=\"Post \\\"https://update.equinox.io/check\\\": context deadline exceeded\"\n",
            "127.0.0.1 - - [15/Apr/2025 09:07:18] \"\u001b[32mGET / HTTP/1.1\u001b[0m\" 302 -\n",
            "127.0.0.1 - - [15/Apr/2025 09:07:18] \"GET /login HTTP/1.1\" 200 -\n",
            "127.0.0.1 - - [15/Apr/2025 09:07:18] \"\u001b[33mGET /favicon.ico HTTP/1.1\u001b[0m\" 404 -\n",
            "127.0.0.1 - - [15/Apr/2025 09:08:06] \"\u001b[32mPOST /login HTTP/1.1\u001b[0m\" 302 -\n",
            "127.0.0.1 - - [15/Apr/2025 09:08:06] \"GET /login HTTP/1.1\" 200 -\n",
            "127.0.0.1 - - [15/Apr/2025 09:08:08] \"GET /register HTTP/1.1\" 200 -\n",
            "127.0.0.1 - - [15/Apr/2025 09:09:22] \"\u001b[32mPOST /register HTTP/1.1\u001b[0m\" 302 -\n",
            "127.0.0.1 - - [15/Apr/2025 09:09:22] \"GET /login HTTP/1.1\" 200 -\n",
            "127.0.0.1 - - [15/Apr/2025 09:09:32] \"\u001b[32mPOST /login HTTP/1.1\u001b[0m\" 302 -\n",
            "127.0.0.1 - - [15/Apr/2025 09:09:32] \"GET /patient_card HTTP/1.1\" 200 -\n",
            "Traceback (most recent call last):\n",
            "  File \"/content/app.py\", line 172, in <module>\n",
            "    app.run(host='0.0.0.0', port=port)\n",
            "  File \"/usr/local/lib/python3.11/dist-packages/flask/app.py\", line 889, in run\n",
            "    run_simple(t.cast(str, host), port, self, **options)\n",
            "  File \"/usr/local/lib/python3.11/dist-packages/werkzeug/serving.py\", line 1107, in run_simple\n",
            "    srv.serve_forever()\n",
            "  File \"/usr/local/lib/python3.11/dist-packages/werkzeug/serving.py\", line 808, in serve_forever\n",
            "    self.server_close()\n",
            "  File \"/usr/lib/python3.11/socketserver.py\", line 708, in server_close\n",
            "    super().server_close()\n",
            "  File \"/usr/lib/python3.11/socketserver.py\", line 489, in server_close\n",
            "    self.socket.close()\n",
            "  File \"/usr/lib/python3.11/socket.py\", line 503, in close\n",
            "    self._real_close()\n",
            "  File \"/usr/lib/python3.11/socket.py\", line 497, in _real_close\n",
            "    _ss.close(self)\n",
            "KeyboardInterrupt\n",
            "^C\n"
          ]
        }
      ]
    }
  ]
}